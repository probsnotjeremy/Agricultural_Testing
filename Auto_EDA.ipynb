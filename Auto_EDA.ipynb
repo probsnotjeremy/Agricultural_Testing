{
 "cells": [
  {
   "cell_type": "code",
   "execution_count": null,
   "id": "574881c8",
   "metadata": {},
   "outputs": [],
   "source": [
    "import pandas as pd\n",
    "from ydata_profiling import ProfileReport\n",
    "\n",
    "# Load your dataset\n",
    "ds = pd.read_csv(\"crop_yield_dataset.csv\")\n",
    "\n",
    "# Create basic EDA report\n",
    "profile = ProfileReport(ds, title=\"Crop Dataset EDA Report\", explorative=True)\n",
    "\n",
    "# Save to HTML\n",
    "profile.to_file(\"reports\\eda_report.html\")"
   ]
  },
  {
   "cell_type": "code",
   "execution_count": null,
   "id": "e14dd10c",
   "metadata": {},
   "outputs": [],
   "source": [
    "subset = ds[[\"Crop_Yield\", \"Soil_pH\", \"Temperature\", \"Humidity\", \"Wind_Speed\", \"N\", \"P\", \"K\", \"Soil_Quality\"]]\n",
    "\n",
    "profile = ProfileReport(\n",
    "    subset,\n",
    "    title=\"Crop Dataset EDA with Target Analysis\",\n",
    "    explorative=True,\n",
    "    samples=None\n",
    ")\n",
    "\n",
    "profile.to_file(\"reports\\eda_report_target.html\")\n"
   ]
  }
 ],
 "metadata": {
  "kernelspec": {
   "display_name": "Python (vLLM)",
   "language": "python",
   "name": "vllm-env"
  },
  "language_info": {
   "codemirror_mode": {
    "name": "ipython",
    "version": 3
   },
   "file_extension": ".py",
   "mimetype": "text/x-python",
   "name": "python",
   "nbconvert_exporter": "python",
   "pygments_lexer": "ipython3",
   "version": "3.11.0"
  }
 },
 "nbformat": 4,
 "nbformat_minor": 5
}
