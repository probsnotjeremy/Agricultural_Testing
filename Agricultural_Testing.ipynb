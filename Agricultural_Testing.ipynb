{
 "cells": [
  {
   "cell_type": "code",
   "execution_count": null,
   "id": "44b95eff",
   "metadata": {},
   "outputs": [
    {
     "name": "stdout",
     "output_type": "stream",
     "text": [
      "         Date Crop_Type Soil_Type  Soil_pH  Temperature   Humidity  \\\n",
      "0  2014-01-01     Wheat     Peaty     5.50     9.440599  80.000000   \n",
      "1  2014-01-01      Corn     Loamy     6.50    20.052576  79.947424   \n",
      "2  2014-01-01      Rice     Peaty     5.50    12.143099  80.000000   \n",
      "3  2014-01-01    Barley     Sandy     6.75    19.751848  80.000000   \n",
      "4  2014-01-01   Soybean     Peaty     5.50    16.110395  80.000000   \n",
      "\n",
      "   Wind_Speed     N     P     K  Crop_Yield  Soil_Quality  \n",
      "0   10.956707  60.5  45.0  31.5    0.000000     22.833333  \n",
      "1    8.591577  84.0  66.0  50.0  104.871310     66.666667  \n",
      "2    7.227751  71.5  54.0  38.5    0.000000     27.333333  \n",
      "3    2.682683  50.0  40.0  30.0   58.939796     35.000000  \n",
      "4    7.696070  49.5  45.0  38.5   32.970413     22.166667  \n",
      "<class 'pandas.core.frame.DataFrame'>\n",
      "RangeIndex: 36520 entries, 0 to 36519\n",
      "Data columns (total 12 columns):\n",
      " #   Column        Non-Null Count  Dtype  \n",
      "---  ------        --------------  -----  \n",
      " 0   Date          36520 non-null  object \n",
      " 1   Crop_Type     36520 non-null  object \n",
      " 2   Soil_Type     36520 non-null  object \n",
      " 3   Soil_pH       36520 non-null  float64\n",
      " 4   Temperature   36520 non-null  float64\n",
      " 5   Humidity      36520 non-null  float64\n",
      " 6   Wind_Speed    36520 non-null  float64\n",
      " 7   N             36520 non-null  float64\n",
      " 8   P             36520 non-null  float64\n",
      " 9   K             36520 non-null  float64\n",
      " 10  Crop_Yield    36520 non-null  float64\n",
      " 11  Soil_Quality  36520 non-null  float64\n",
      "dtypes: float64(9), object(3)\n",
      "memory usage: 3.3+ MB\n",
      "None\n",
      "            Soil_pH   Temperature      Humidity    Wind_Speed             N  \\\n",
      "count  36520.000000  36520.000000  36520.000000  36520.000000  36520.000000   \n",
      "mean       6.602731     23.813996     74.256624     10.020153     66.011035   \n",
      "std        0.816973      8.920519      6.767587      2.998310     10.886721   \n",
      "min        5.500000     -3.540176     45.851089     -3.388906     45.000000   \n",
      "25%        6.250000     17.168542     69.745252      7.985872     58.500000   \n",
      "50%        6.500000     22.902987     77.097013     10.000299     65.000000   \n",
      "75%        6.750000     30.254748     80.000000     12.038546     71.500000   \n",
      "max        8.000000     54.148911     80.000000     22.606078     91.000000   \n",
      "\n",
      "                  P            K    Crop_Yield  Soil_Quality  \n",
      "count  36520.000000  36520.00000  36520.000000  36520.000000  \n",
      "mean      53.014006     42.01825     26.878480     37.516632  \n",
      "std        8.812884      8.53781     25.740936     17.703171  \n",
      "min       36.000000     27.00000      0.000000     13.291667  \n",
      "25%       45.000000     35.00000      0.000000     22.500000  \n",
      "50%       54.000000     42.00000     23.366344     35.583333  \n",
      "75%       60.000000     49.50000     46.415729     49.291667  \n",
      "max       72.000000     60.00000    136.711982     74.333333  \n"
     ]
    }
   ],
   "source": [
    "import os\n",
    "import pandas as pd\n",
    "import matplotlib.pyplot as plt\n",
    "import seaborn as sns\n",
    "\n",
    "ds = pd.read_csv(\"crop_yield_dataset.csv\")\n",
    "\n",
    "# print(ds.head())\n",
    "# print(ds.info())\n",
    "# print(ds.describe())\n",
    "\n",
    "\n",
    "sns.scatterplot(x=\"Temperature\", y=\"Crop_Yield\", data=ds)\n",
    "plt.show()\n",
    "\n",
    "\n",
    "sns.lineplot(x=\"Crop_Yield\", y=\"Temperature\", data=ds)\n",
    "plt.show()\n",
    "\n",
    "sns.heatmap(ds.corr(numeric_only=True), annot=True, cmap=\"coolwarm\")\n",
    "plt.show()"
   ]
  }
 ],
 "metadata": {
  "kernelspec": {
   "display_name": "Python (vLLM)",
   "language": "python",
   "name": "vllm-env"
  },
  "language_info": {
   "codemirror_mode": {
    "name": "ipython",
    "version": 3
   },
   "file_extension": ".py",
   "mimetype": "text/x-python",
   "name": "python",
   "nbconvert_exporter": "python",
   "pygments_lexer": "ipython3",
   "version": "3.11.0"
  }
 },
 "nbformat": 4,
 "nbformat_minor": 5
}
