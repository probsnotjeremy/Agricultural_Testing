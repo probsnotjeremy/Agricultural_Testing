{
 "cells": [
  {
   "cell_type": "code",
   "execution_count": null,
   "id": "44b95eff",
   "metadata": {},
   "outputs": [],
   "source": [
    "# New Agricultural Testing script\n",
    "import os\n",
    "import datasets"
   ]
  }
 ],
 "metadata": {
  "language_info": {
   "name": "python"
  }
 },
 "nbformat": 4,
 "nbformat_minor": 5
}
